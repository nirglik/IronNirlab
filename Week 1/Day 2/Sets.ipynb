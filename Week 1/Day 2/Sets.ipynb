{
 "cells": [
  {
   "cell_type": "markdown",
   "metadata": {},
   "source": [
    "## Challenge 2: Sets\n",
    "\n",
    "There are a lot to learn about Python Sets and the information presented in the lesson is limited due to its length. To learn Python Sets in depth you are strongly encouraged to review the W3Schools tutorial on [Python Sets Examples and Methods](https://www.w3schools.com/python/python_sets.asp) before you work on this lab. Some difficult questions in this lab have their solutions in the W3Schools tutorial.\n",
    "\n",
    "#### First, import the Python `random` libary"
   ]
  },
  {
   "cell_type": "code",
   "execution_count": 1,
   "metadata": {},
   "outputs": [],
   "source": [
    "import random"
   ]
  },
  {
   "cell_type": "markdown",
   "metadata": {},
   "source": [
    "#### In the cell below, create a list named `sample_list_1` with 80 random values. \n",
    "\n",
    "Requirements:\n",
    "\n",
    "* Each value is an integer falling between 0 and 100.\n",
    "* Each value in the list is unique.\n",
    "\n",
    "Print `sample_list_1` to review its values\n",
    "\n",
    "*Hint: use `random.sample` ([reference](https://docs.python.org/3/library/random.html#random.sample)).*"
   ]
  },
  {
   "cell_type": "code",
   "execution_count": 2,
   "metadata": {},
   "outputs": [
    {
     "name": "stdout",
     "output_type": "stream",
     "text": [
      "[95, 94, 98, 70, 10, 51, 68, 36, 49, 5, 14, 97, 15, 1, 63, 17, 78, 3, 22, 57, 93, 8, 54, 87, 62, 53, 28, 12, 26, 30, 73, 4, 69, 38, 18, 61, 55, 13, 80, 74, 27, 37, 67, 75, 34, 9, 84, 65, 7, 82, 0, 92, 24, 77, 32, 42, 50, 64, 85, 89, 48, 91, 46, 39, 79, 45, 40, 44, 83, 88, 16, 21, 58, 19, 59, 2, 99, 76, 81, 41]\n"
     ]
    }
   ],
   "source": [
    "# Your code here\n",
    "sample_list_1 = random.sample(range(100), 80)\n",
    "print (sample_list_1)"
   ]
  },
  {
   "cell_type": "markdown",
   "metadata": {},
   "source": [
    "#### Convert `sample_list_1` to a set called `set1`. Print the length of the set. Is its length still 80?"
   ]
  },
  {
   "cell_type": "code",
   "execution_count": 3,
   "metadata": {},
   "outputs": [
    {
     "name": "stdout",
     "output_type": "stream",
     "text": [
      "[95, 94, 98, 70, 10, 51, 68, 36, 49, 5, 14, 97, 15, 1, 63, 17, 78, 3, 22, 57, 93, 8, 54, 87, 62, 53, 28, 12, 26, 30, 73, 4, 69, 38, 18, 61, 55, 13, 80, 74, 27, 37, 67, 75, 34, 9, 84, 65, 7, 82, 0, 92, 24, 77, 32, 42, 50, 64, 85, 89, 48, 91, 46, 39, 79, 45, 40, 44, 83, 88, 16, 21, 58, 19, 59, 2, 99, 76, 81, 41]\n"
     ]
    },
    {
     "data": {
      "text/plain": [
       "80"
      ]
     },
     "execution_count": 3,
     "metadata": {},
     "output_type": "execute_result"
    }
   ],
   "source": [
    "# Your code here\n",
    "set1= set(sample_list_1)\n",
    "print(sample_list_1)\n",
    "len(sample_list_1)"
   ]
  },
  {
   "cell_type": "markdown",
   "metadata": {},
   "source": [
    "#### Create another list named `sample_list_2` with 80 random values.\n",
    "\n",
    "Requirements:\n",
    "\n",
    "* Each value is an integer falling between 0 and 100.\n",
    "* The values in the list don't have to be unique.\n",
    "\n",
    "*Hint: Use a FOR loop.*"
   ]
  },
  {
   "cell_type": "code",
   "execution_count": 9,
   "metadata": {},
   "outputs": [
    {
     "name": "stdout",
     "output_type": "stream",
     "text": [
      "[83, 4, 22, 26, 35, 84, 19, 0, 61, 77, 57, 8, 37, 12, 14, 76, 38, 54, 78, 32, 88, 30, 71, 71, 82, 66, 57, 38, 83, 26, 30, 89, 53, 44, 38, 31, 48, 50, 15, 100, 15, 11, 24, 42, 66, 67, 100, 62, 11, 82, 10, 15, 99, 5, 49, 61, 64, 72, 80, 20, 87, 92, 31, 100, 49, 59, 83, 52, 59, 50, 56, 76, 3, 54, 64, 62, 38, 99, 86, 56]\n"
     ]
    }
   ],
   "source": [
    "# Your code here\n",
    "sample_list_2=[]\n",
    "n=80\n",
    "for i in range(n):\n",
    "    sample_list_2.append(random.randint(0,100))\n",
    "print(sample_list_2)"
   ]
  },
  {
   "cell_type": "markdown",
   "metadata": {},
   "source": [
    "#### Convert `sample_list_2` to a set called `set2`. Print the length of the set. Is its length still 80?"
   ]
  },
  {
   "cell_type": "code",
   "execution_count": 10,
   "metadata": {},
   "outputs": [
    {
     "name": "stdout",
     "output_type": "stream",
     "text": [
      "[83, 4, 22, 26, 35, 84, 19, 0, 61, 77, 57, 8, 37, 12, 14, 76, 38, 54, 78, 32, 88, 30, 71, 71, 82, 66, 57, 38, 83, 26, 30, 89, 53, 44, 38, 31, 48, 50, 15, 100, 15, 11, 24, 42, 66, 67, 100, 62, 11, 82, 10, 15, 99, 5, 49, 61, 64, 72, 80, 20, 87, 92, 31, 100, 49, 59, 83, 52, 59, 50, 56, 76, 3, 54, 64, 62, 38, 99, 86, 56]\n"
     ]
    },
    {
     "data": {
      "text/plain": [
       "80"
      ]
     },
     "execution_count": 10,
     "metadata": {},
     "output_type": "execute_result"
    }
   ],
   "source": [
    "# Your code here\n",
    "set2= set(sample_list_2)\n",
    "print(sample_list_2)\n",
    "len(sample_list_2)"
   ]
  },
  {
   "cell_type": "markdown",
   "metadata": {},
   "source": [
    "#### Identify the elements present in `set1` but not in `set2`. Assign the elements to a new set named `set3`."
   ]
  },
  {
   "cell_type": "code",
   "execution_count": 17,
   "metadata": {},
   "outputs": [
    {
     "data": {
      "text/plain": [
       "{1,\n",
       " 2,\n",
       " 7,\n",
       " 9,\n",
       " 13,\n",
       " 16,\n",
       " 17,\n",
       " 18,\n",
       " 21,\n",
       " 27,\n",
       " 28,\n",
       " 34,\n",
       " 36,\n",
       " 39,\n",
       " 40,\n",
       " 41,\n",
       " 45,\n",
       " 46,\n",
       " 51,\n",
       " 55,\n",
       " 58,\n",
       " 63,\n",
       " 65,\n",
       " 68,\n",
       " 69,\n",
       " 70,\n",
       " 73,\n",
       " 74,\n",
       " 75,\n",
       " 79,\n",
       " 81,\n",
       " 85,\n",
       " 91,\n",
       " 93,\n",
       " 94,\n",
       " 95,\n",
       " 97,\n",
       " 98}"
      ]
     },
     "execution_count": 17,
     "metadata": {},
     "output_type": "execute_result"
    }
   ],
   "source": [
    "# Your code here\n",
    "set1.difference(set2)"
   ]
  },
  {
   "cell_type": "markdown",
   "metadata": {},
   "source": [
    "#### Identify the elements present in `set2` but not in `set1`. Assign the elements to a new set named `set4`."
   ]
  },
  {
   "cell_type": "code",
   "execution_count": 22,
   "metadata": {},
   "outputs": [
    {
     "data": {
      "text/plain": [
       "{11, 20, 31, 35, 52, 56, 66, 71, 72, 86, 100}"
      ]
     },
     "execution_count": 22,
     "metadata": {},
     "output_type": "execute_result"
    }
   ],
   "source": [
    "# Your code here\n",
    "set2.difference(set1)"
   ]
  },
  {
   "cell_type": "markdown",
   "metadata": {},
   "source": [
    "#### Now Identify the elements shared between `set1` and `set2`. Assign the elements to a new set named `set5`."
   ]
  },
  {
   "cell_type": "code",
   "execution_count": 24,
   "metadata": {},
   "outputs": [
    {
     "name": "stdout",
     "output_type": "stream",
     "text": [
      "[0, 3, 4, 5, 8, 10, 12, 14, 15, 19, 22, 24, 26, 30, 32, 37, 38, 42, 44, 48, 49, 50, 53, 54, 57, 59, 61, 62, 64, 67, 76, 77, 78, 80, 82, 83, 84, 87, 88, 89, 92, 99]\n"
     ]
    }
   ],
   "source": [
    "# Your code here\n",
    "import numpy as np\n",
    "result = [element for element in set1 if element in set2]\n",
    "print(result)"
   ]
  },
  {
   "cell_type": "markdown",
   "metadata": {},
   "source": [
    "#### (Optional) What is the relationship among the following values:\n",
    "\n",
    "* len(set1)\n",
    "* len(set2)\n",
    "* len(set3)\n",
    "* len(set4)\n",
    "* len(set5)\n",
    "\n",
    "Use a formula to represent that relationship. Test your formula with Python code."
   ]
  },
  {
   "cell_type": "code",
   "execution_count": null,
   "metadata": {},
   "outputs": [],
   "source": [
    "# Your code here\n"
   ]
  },
  {
   "cell_type": "markdown",
   "metadata": {},
   "source": [
    "#### Create an empty set called `set6`."
   ]
  },
  {
   "cell_type": "code",
   "execution_count": null,
   "metadata": {},
   "outputs": [],
   "source": [
    "# Your code here\n"
   ]
  },
  {
   "cell_type": "markdown",
   "metadata": {},
   "source": [
    "#### Add `set3` and `set5` to `set6` using the Python Set `update` method."
   ]
  },
  {
   "cell_type": "code",
   "execution_count": null,
   "metadata": {},
   "outputs": [],
   "source": [
    "# Your code here\n"
   ]
  },
  {
   "cell_type": "markdown",
   "metadata": {},
   "source": [
    "#### Check if `set1` and `set6` are equal."
   ]
  },
  {
   "cell_type": "code",
   "execution_count": null,
   "metadata": {},
   "outputs": [],
   "source": [
    "# Your code here\n"
   ]
  },
  {
   "cell_type": "markdown",
   "metadata": {},
   "source": [
    "#### Check if `set1` contains `set2` using the Python Set `issubset` method. Then check if `set1` contains `set3`.*"
   ]
  },
  {
   "cell_type": "code",
   "execution_count": null,
   "metadata": {},
   "outputs": [],
   "source": [
    "# Your code here\n"
   ]
  },
  {
   "cell_type": "markdown",
   "metadata": {},
   "source": [
    "#### Using the Python Set `union` method, aggregate `set3`, `set4`, and `set5`. Then aggregate `set1` and `set2`. \n",
    "\n",
    "#### Check if the aggregated values are equal."
   ]
  },
  {
   "cell_type": "code",
   "execution_count": null,
   "metadata": {},
   "outputs": [],
   "source": [
    "# Your code here\n"
   ]
  },
  {
   "cell_type": "markdown",
   "metadata": {},
   "source": [
    "#### Using the `pop` method, remove an element from `set1`."
   ]
  },
  {
   "cell_type": "code",
   "execution_count": null,
   "metadata": {},
   "outputs": [],
   "source": [
    "# Your code here\n"
   ]
  },
  {
   "cell_type": "markdown",
   "metadata": {},
   "source": [
    "#### Remove every element in the following list from `set1` if they are present in the set. Print the remaining elements.\n",
    "\n",
    "```\n",
    "list_to_remove = [1, 9, 11, 19, 21, 29, 31, 39, 41, 49, 51, 59, 61, 69, 71, 79, 81, 89, 91, 99]\n",
    "```"
   ]
  },
  {
   "cell_type": "code",
   "execution_count": null,
   "metadata": {},
   "outputs": [],
   "source": [
    "# Your code here\n"
   ]
  }
 ],
 "metadata": {
  "kernelspec": {
   "display_name": "Python 3 (ipykernel)",
   "language": "python",
   "name": "python3"
  },
  "language_info": {
   "codemirror_mode": {
    "name": "ipython",
    "version": 3
   },
   "file_extension": ".py",
   "mimetype": "text/x-python",
   "name": "python",
   "nbconvert_exporter": "python",
   "pygments_lexer": "ipython3",
   "version": "3.9.12"
  },
  "toc": {
   "base_numbering": 1,
   "nav_menu": {},
   "number_sections": false,
   "sideBar": true,
   "skip_h1_title": false,
   "title_cell": "Table of Contents",
   "title_sidebar": "Contents",
   "toc_cell": false,
   "toc_position": {},
   "toc_section_display": true,
   "toc_window_display": false
  }
 },
 "nbformat": 4,
 "nbformat_minor": 2
}
